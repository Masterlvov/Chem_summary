{
 "cells": [
  {
   "cell_type": "code",
   "execution_count": null,
   "metadata": {
    "vscode": {
     "languageId": "plaintext"
    }
   },
   "outputs": [],
   "source": [
    "EIS_data = []\n",
    "data_path = '/bohr/eisp-q8by/v5/public_data_camb'\n",
    "for file in os.listdir(data_path):\n",
    "    if file.endswith('.csv'):\n",
    "        sample_name = file.split('_')[-1].split('.')[0]\n",
    "        data = pd.read_csv(os.path.join(data_path, file))\n",
    "        data = pd.DataFrame(data)\n",
    "        cycle = sorted(set(data['cycle number']))\n",
    "        data_cycle = [[f'{sample_name}-cyc{i}', data[data['cycle number'] == i]] for i in cycle]\n",
    "        data_eis = [(i[0], torch.tensor(i[1]['freq/Hz'].to_numpy()), torch.tensor(i[1]['Re(Z)/Ohm'].to_numpy()), \n",
    "                     torch.tensor(i[1]['-Im(Z)/Ohm'].to_numpy())) for i in data_cycle]\n",
    "        EIS_data += data_eis\n",
    "\n",
    "print('Total samples:', len(EIS_data))"
   ]
  },
  {
   "cell_type": "markdown",
   "metadata": {},
   "source": [
    "这段Python代码的主要功能是从一个指定的文件夹中读取所有以.csv结尾的文件，处理这些文件中的数据，并将处理后的数据收集到一个列表中。以下是代码执行的具体步骤和解释：\n",
    "\n",
    "初始化一个空列表EIS_data，用于存储处理后的电化学阻抗谱（EIS）数据。\n",
    "设置变量data_path为存储数据的文件夹路径。\n",
    "使用os.listdir(data_path)列出data_path路径下的所有文件和文件夹名称，并遍历这些名称。\n",
    "对于每个文件，首先检查文件名是否以.csv结尾，以确保只处理CSV文件。\n",
    "从文件名中提取样本名称（sample_name）。这里假设文件名中包含一个下划线分隔的标识符，并且.csv扩展名之前的部分是样本名称。\n",
    "使用pd.read_csv(os.path.join(data_path, file))读取CSV文件内容到一个Pandas DataFrame中。然后，又将这个DataFrame重新赋值给data变量（这一步其实是多余的，因为pd.read_csv已经返回了一个DataFrame）。\n",
    "从data DataFrame中提取唯一的“cycle number”（循环编号）值，并对它们进行排序。\n",
    "对于每个唯一的循环编号，创建一个包含样本名称和循环编号（格式为sample_name-cyc{i}）的列表，以及对应循环编号下的数据子集。这里的数据子集是通过布尔索引从data DataFrame中筛选出来的。\n",
    "对于每个数据子集，提取“freq/Hz”（频率）、“Re(Z)/Ohm”（实部阻抗）和“-Im(Z)/Ohm”（虚部阻抗，注意这里的负号可能是表示阻抗的虚部是负的，但在数据结构中直接以负号前缀表示）列，并将这些列的数据转换为PyTorch张量（torch.tensor）。\n",
    "将样本名称、频率张量、实部阻抗张量和虚部阻抗张量作为一个元组添加到EIS_data列表中。\n",
    "遍历完成后，打印出EIS_data列表的长度，即总样本数。\n",
    "注意：\n",
    "\n",
    "代码中使用了pd和torch两个库，分别代表Pandas（用于数据处理和分析）和PyTorch（用于深度学习和张量计算）。\n",
    "在处理数据之前，需要确保已经导入了必要的库，例如import os、import pandas as pd和import torch。\n",
    "代码中假设每个CSV文件都有“cycle number”、“freq/Hz”、“Re(Z)/Ohm”和“-Im(Z)/Ohm”这几列，且这些列的数据类型适合转换为张量。如果实际情况不同，可能需要相应的错误处理或数据清洗步骤。\n",
    "\n",
    "\n",
    "\n",
    "--- 其中，if file.endswith('.csv'): 是一个条件判断语句，用于检查变量 file（通常是一个字符串，代表文件名）是否以 .csv 结尾。如果是，那么条件判断为真（True），执行接下来的代码块。---\n",
    "接下来的代码行 sample_name = file.split('_')[-1].split('.')[0] 用于从文件名中提取样本名称。这里假设文件名遵循某种命名约定，其中包含下划线 _ 作为分隔符，并且 .csv 是文件的扩展名。\n",
    "file.split('_')：这个方法将字符串 file 按照下划线 _ 分割成一个列表。每个元素都是原字符串中由下划线分隔的部分。\n",
    "[-1]：这个索引用于获取上一步生成的列表中的最后一个元素。在大多数命名约定中，最后一个部分可能包含了样本名称和文件扩展名。\n",
    ".split('.')[0]：然后，对这个最后一个元素再次进行分割，这次是按照点 . 分割（因为 .csv 是文件扩展名）。由于 .csv 总是以点开始并跟随扩展名，所以分割后的第一个元素（索引为0）就是样本名称，而不包含文件扩展名。\n",
    "综上所述，这行代码的作用是从文件名中提取出样本名称，假设文件名遵循“..._样本名称.csv”的格式。例如，如果 file 是 \"data_set_1_sampleA.csv\"，那么 sample_name 将被设置为 \"sampleA\"。"
   ]
  },
  {
   "cell_type": "markdown",
   "metadata": {},
   "source": [
    "Q：我通过pandas读取excel的6列数据，想把第0，2，4列的数字除以它们的末尾数字进行归一化，并输出\n",
    "\n",
    "A:要通过Pandas读取Excel文件中的6列数据，并对第0、2、4列的数字进行归一化处理（即将每个数字除以其末尾的数字），你可以按照以下步骤操作：\n",
    "\n",
    "使用pandas.read_excel读取Excel文件。\n",
    "提取第0、2、4列的数据。\n",
    "定义一个函数来计算每个数字的末尾数字，并用该数字对原始数字进行归一化。\n",
    "应用这个函数到第0、2、4列上。\n",
    "输出或保存处理后的数据。\n",
    "下面是一个示例代码：\n",
    "\n",
    "python\n",
    "import pandas as pd\n",
    " \n",
    "# 读取Excel文件\n",
    "df = pd.read_excel('your_file.xlsx')  # 替换为你的Excel文件路径\n",
    " \n",
    "# 确保我们只处理数字列，这里假设所有列都是数字类型，如果不是，你可能需要先转换类型\n",
    "# 检查数据类型并转换（如果需要）\n",
    "# df = df.apply(pd.to_numeric, errors='coerce')\n",
    " \n",
    "# 定义一个函数来计算末尾数字并进行归一化\n",
    "def normalize_by_last_digit(x):\n",
    "    if isinstance(x, (int, float)):  # 确保x是数字\n",
    "        last_digit = int(str(x)[-1])  # 获取末尾数字，转换为整数\n",
    "        if last_digit != 0:  # 避免除以0的错误\n",
    "            return x / last_digit\n",
    "        else:\n",
    "            # 如果末尾是0，你可能需要返回一个特定的值或抛出一个错误\n",
    "            # 这里我们返回一个NaN，表示不是一个有效的数字\n",
    "            return float('nan')\n",
    "    else:\n",
    "        # 如果x不是数字，返回原值（或者你可以抛出一个错误）\n",
    "        return x\n",
    " \n",
    "# 应用归一化函数到第0、2、4列\n",
    "columns_to_normalize = [0, 2, 4]\n",
    "for col in columns_to_normalize:\n",
    "    df.iloc[:, col] = df.iloc[:, col].apply(normalize_by_last_digit)\n",
    " \n",
    "# 输出处理后的数据\n",
    "print(df)\n",
    " \n",
    "# 如果你想把处理后的数据保存到新的Excel文件中\n",
    "# df.to_excel('normalized_data.xlsx', index=False)  # 替换为你想要保存的文件路径\n",
    "注意：\n",
    "\n",
    "这个代码假设你的Excel文件中的数据是可以直接进行数学运算的（即数字类型）。如果数据中包含非数字（如字符串），你可能需要先进行清洗和转换。\n",
    "末尾数字为0的情况需要特别处理，因为除以0会导致错误。在这个示例中，我们返回了一个NaN值，但你可以根据实际需求进行调整。\n",
    "iloc用于基于位置的索引，所以列索引是从0开始的。如果你的DataFrame有列名，你也可以使用loc和列名来引用列。\n",
    "在实际应用中，请确保替换示例代码中的文件路径为你自己的文件路径。\n",
    "\n"
   ]
  }
 ],
 "metadata": {
  "language_info": {
   "name": "python"
  }
 },
 "nbformat": 4,
 "nbformat_minor": 2
}
